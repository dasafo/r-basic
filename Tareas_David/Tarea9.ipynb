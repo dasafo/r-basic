{
 "cells": [
  {
   "cell_type": "code",
   "execution_count": 2,
   "metadata": {},
   "outputs": [],
   "source": [
    "%matplotlib inline\n",
    "import pandas as pd\n",
    "import numpy as np\n",
    "import matplotlib.pyplot as plt\n",
    "df = pd.read_csv(\"../data/run.csv\", delimiter=\",\", decimal=\".\", encoding=\"utf-8\")"
   ]
  },
  {
   "cell_type": "markdown",
   "metadata": {},
   "source": [
    "## *Carga el CSV de la carpeta de datos del tema llamado run.csv y responde a las siguientes preguntas. Preguntas de esta tarea:*"
   ]
  },
  {
   "cell_type": "markdown",
   "metadata": {},
   "source": [
    "## 1- Indica cuantos estudiantes formaron parte del estudio de deporte"
   ]
  },
  {
   "cell_type": "code",
   "execution_count": 31,
   "metadata": {},
   "outputs": [
    {
     "data": {
      "text/plain": [
       "92"
      ]
     },
     "execution_count": 31,
     "metadata": {},
     "output_type": "execute_result"
    }
   ],
   "source": [
    "num=df['altura'].count()\n",
    "num"
   ]
  },
  {
   "cell_type": "markdown",
   "metadata": {},
   "source": [
    "## 2- Indica cuantos individuos son hombres y cuantos son mujeres"
   ]
  },
  {
   "cell_type": "code",
   "execution_count": 4,
   "metadata": {},
   "outputs": [
    {
     "data": {
      "text/plain": [
       "genero\n",
       "H    57\n",
       "M    35\n",
       "Name: genero, dtype: int64"
      ]
     },
     "execution_count": 4,
     "metadata": {},
     "output_type": "execute_result"
    }
   ],
   "source": [
    " df.groupby('genero').genero.count()"
   ]
  },
  {
   "cell_type": "markdown",
   "metadata": {},
   "source": [
    "## 3- Calcula el porcentaje medio de variación del pulso por minuto entre antes y después de hacer ejercicio y compara el valor de los que hacen ejercicio habitualmente y los que no. ¿Observas mucha diferencia?"
   ]
  },
  {
   "cell_type": "code",
   "execution_count": 54,
   "metadata": {},
   "outputs": [
    {
     "data": {
      "text/html": [
       "<div>\n",
       "<style scoped>\n",
       "    .dataframe tbody tr th:only-of-type {\n",
       "        vertical-align: middle;\n",
       "    }\n",
       "\n",
       "    .dataframe tbody tr th {\n",
       "        vertical-align: top;\n",
       "    }\n",
       "\n",
       "    .dataframe thead th {\n",
       "        text-align: right;\n",
       "    }\n",
       "</style>\n",
       "<table border=\"1\" class=\"dataframe\">\n",
       "  <thead>\n",
       "    <tr style=\"text-align: right;\">\n",
       "      <th></th>\n",
       "      <th>Unnamed: 0</th>\n",
       "      <th>pulso.antes</th>\n",
       "      <th>pulso.despues</th>\n",
       "      <th>altura</th>\n",
       "      <th>peso</th>\n",
       "      <th>%var_pulso</th>\n",
       "    </tr>\n",
       "    <tr>\n",
       "      <th>hace.deporte</th>\n",
       "      <th></th>\n",
       "      <th></th>\n",
       "      <th></th>\n",
       "      <th></th>\n",
       "      <th></th>\n",
       "      <th></th>\n",
       "    </tr>\n",
       "  </thead>\n",
       "  <tbody>\n",
       "    <tr>\n",
       "      <th>no</th>\n",
       "      <td>47.017544</td>\n",
       "      <td>72.421053</td>\n",
       "      <td>72.315789</td>\n",
       "      <td>68.065789</td>\n",
       "      <td>141.122807</td>\n",
       "      <td>-0.150372</td>\n",
       "    </tr>\n",
       "    <tr>\n",
       "      <th>si</th>\n",
       "      <td>45.657143</td>\n",
       "      <td>73.600000</td>\n",
       "      <td>92.514286</td>\n",
       "      <td>69.778571</td>\n",
       "      <td>151.714286</td>\n",
       "      <td>18.715914</td>\n",
       "    </tr>\n",
       "  </tbody>\n",
       "</table>\n",
       "</div>"
      ],
      "text/plain": [
       "              Unnamed: 0  pulso.antes  pulso.despues     altura        peso  \\\n",
       "hace.deporte                                                                  \n",
       "no             47.017544    72.421053      72.315789  68.065789  141.122807   \n",
       "si             45.657143    73.600000      92.514286  69.778571  151.714286   \n",
       "\n",
       "              %var_pulso  \n",
       "hace.deporte              \n",
       "no             -0.150372  \n",
       "si             18.715914  "
      ]
     },
     "execution_count": 54,
     "metadata": {},
     "output_type": "execute_result"
    }
   ],
   "source": [
    "df['%var_pulso'] = ((df['pulso.despues']-df['pulso.antes'])*100)/df['pulso.despues']\n",
    "\n",
    "df.groupby('hace.deporte').mean()"
   ]
  },
  {
   "cell_type": "markdown",
   "metadata": {},
   "source": [
    "## 4- Calcula el porcentaje medio de variación del pulso por minuto entre antes y después de hacer ejercicio  para los estudiantes que hacen ejercicio habitualmente y compara el valor de los hombres con el de las mujeres. ¿Observas mucha diferencia?"
   ]
  },
  {
   "cell_type": "code",
   "execution_count": 55,
   "metadata": {},
   "outputs": [
    {
     "data": {
      "text/html": [
       "<div>\n",
       "<style scoped>\n",
       "    .dataframe tbody tr th:only-of-type {\n",
       "        vertical-align: middle;\n",
       "    }\n",
       "\n",
       "    .dataframe tbody tr th {\n",
       "        vertical-align: top;\n",
       "    }\n",
       "\n",
       "    .dataframe thead th {\n",
       "        text-align: right;\n",
       "    }\n",
       "</style>\n",
       "<table border=\"1\" class=\"dataframe\">\n",
       "  <thead>\n",
       "    <tr style=\"text-align: right;\">\n",
       "      <th></th>\n",
       "      <th>Unnamed: 0</th>\n",
       "      <th>pulso.antes</th>\n",
       "      <th>pulso.despues</th>\n",
       "      <th>altura</th>\n",
       "      <th>peso</th>\n",
       "      <th>%var_pulso</th>\n",
       "    </tr>\n",
       "    <tr>\n",
       "      <th>genero</th>\n",
       "      <th></th>\n",
       "      <th></th>\n",
       "      <th></th>\n",
       "      <th></th>\n",
       "      <th></th>\n",
       "      <th></th>\n",
       "    </tr>\n",
       "  </thead>\n",
       "  <tbody>\n",
       "    <tr>\n",
       "      <th>H</th>\n",
       "      <td>38.083333</td>\n",
       "      <td>70.250000</td>\n",
       "      <td>83.208333</td>\n",
       "      <td>71.229167</td>\n",
       "      <td>162.000000</td>\n",
       "      <td>14.371869</td>\n",
       "    </tr>\n",
       "    <tr>\n",
       "      <th>M</th>\n",
       "      <td>62.181818</td>\n",
       "      <td>80.909091</td>\n",
       "      <td>112.818182</td>\n",
       "      <td>66.613636</td>\n",
       "      <td>129.272727</td>\n",
       "      <td>28.193831</td>\n",
       "    </tr>\n",
       "  </tbody>\n",
       "</table>\n",
       "</div>"
      ],
      "text/plain": [
       "        Unnamed: 0  pulso.antes  pulso.despues     altura        peso  \\\n",
       "genero                                                                  \n",
       "H        38.083333    70.250000      83.208333  71.229167  162.000000   \n",
       "M        62.181818    80.909091     112.818182  66.613636  129.272727   \n",
       "\n",
       "        %var_pulso  \n",
       "genero              \n",
       "H        14.371869  \n",
       "M        28.193831  "
      ]
     },
     "execution_count": 55,
     "metadata": {},
     "output_type": "execute_result"
    }
   ],
   "source": [
    "df[df['hace.deporte'] == \"si\"].groupby('genero').mean()"
   ]
  },
  {
   "cell_type": "markdown",
   "metadata": {},
   "source": [
    "## 5- Calcula el porcentaje medio de variación del pulso por minuto entre antes y después de hacer ejercicio para los estudiantes que no hacen ejercicio habitualmente y compara el valor de los fumadores con los no fumadores. ¿Observas mucha diferencia?"
   ]
  },
  {
   "cell_type": "code",
   "execution_count": 57,
   "metadata": {},
   "outputs": [
    {
     "data": {
      "text/html": [
       "<div>\n",
       "<style scoped>\n",
       "    .dataframe tbody tr th:only-of-type {\n",
       "        vertical-align: middle;\n",
       "    }\n",
       "\n",
       "    .dataframe tbody tr th {\n",
       "        vertical-align: top;\n",
       "    }\n",
       "\n",
       "    .dataframe thead th {\n",
       "        text-align: right;\n",
       "    }\n",
       "</style>\n",
       "<table border=\"1\" class=\"dataframe\">\n",
       "  <thead>\n",
       "    <tr style=\"text-align: right;\">\n",
       "      <th></th>\n",
       "      <th>Unnamed: 0</th>\n",
       "      <th>pulso.antes</th>\n",
       "      <th>pulso.despues</th>\n",
       "      <th>altura</th>\n",
       "      <th>peso</th>\n",
       "      <th>%var_pulso</th>\n",
       "    </tr>\n",
       "    <tr>\n",
       "      <th>fuma</th>\n",
       "      <th></th>\n",
       "      <th></th>\n",
       "      <th></th>\n",
       "      <th></th>\n",
       "      <th></th>\n",
       "      <th></th>\n",
       "    </tr>\n",
       "  </thead>\n",
       "  <tbody>\n",
       "    <tr>\n",
       "      <th>no</th>\n",
       "      <td>45.512195</td>\n",
       "      <td>71.707317</td>\n",
       "      <td>71.512195</td>\n",
       "      <td>68.079268</td>\n",
       "      <td>138.195122</td>\n",
       "      <td>-0.319298</td>\n",
       "    </tr>\n",
       "    <tr>\n",
       "      <th>si</th>\n",
       "      <td>50.875000</td>\n",
       "      <td>74.250000</td>\n",
       "      <td>74.375000</td>\n",
       "      <td>68.031250</td>\n",
       "      <td>148.625000</td>\n",
       "      <td>0.282501</td>\n",
       "    </tr>\n",
       "  </tbody>\n",
       "</table>\n",
       "</div>"
      ],
      "text/plain": [
       "      Unnamed: 0  pulso.antes  pulso.despues     altura        peso  \\\n",
       "fuma                                                                  \n",
       "no     45.512195    71.707317      71.512195  68.079268  138.195122   \n",
       "si     50.875000    74.250000      74.375000  68.031250  148.625000   \n",
       "\n",
       "      %var_pulso  \n",
       "fuma              \n",
       "no     -0.319298  \n",
       "si      0.282501  "
      ]
     },
     "execution_count": 57,
     "metadata": {},
     "output_type": "execute_result"
    }
   ],
   "source": [
    "df[df['hace.deporte']==\"no\"].groupby('fuma').mean()"
   ]
  },
  {
   "cell_type": "markdown",
   "metadata": {},
   "source": [
    "## 6- Calcula el porcentaje medio de variación del pulso por minuto entre antes y después de hacer ejercicio de todos los estudiantes según el tipo de actividad física que realizan. ¿Observas alguna diferencia?"
   ]
  },
  {
   "cell_type": "code",
   "execution_count": 58,
   "metadata": {},
   "outputs": [
    {
     "data": {
      "text/html": [
       "<div>\n",
       "<style scoped>\n",
       "    .dataframe tbody tr th:only-of-type {\n",
       "        vertical-align: middle;\n",
       "    }\n",
       "\n",
       "    .dataframe tbody tr th {\n",
       "        vertical-align: top;\n",
       "    }\n",
       "\n",
       "    .dataframe thead th {\n",
       "        text-align: right;\n",
       "    }\n",
       "</style>\n",
       "<table border=\"1\" class=\"dataframe\">\n",
       "  <thead>\n",
       "    <tr style=\"text-align: right;\">\n",
       "      <th></th>\n",
       "      <th>Unnamed: 0</th>\n",
       "      <th>pulso.antes</th>\n",
       "      <th>pulso.despues</th>\n",
       "      <th>altura</th>\n",
       "      <th>peso</th>\n",
       "      <th>%var_pulso</th>\n",
       "    </tr>\n",
       "    <tr>\n",
       "      <th>tipo.actividad</th>\n",
       "      <th></th>\n",
       "      <th></th>\n",
       "      <th></th>\n",
       "      <th></th>\n",
       "      <th></th>\n",
       "      <th></th>\n",
       "    </tr>\n",
       "  </thead>\n",
       "  <tbody>\n",
       "    <tr>\n",
       "      <th>intensa</th>\n",
       "      <td>43.285714</td>\n",
       "      <td>71.571429</td>\n",
       "      <td>72.190476</td>\n",
       "      <td>69.571429</td>\n",
       "      <td>147.285714</td>\n",
       "      <td>0.673985</td>\n",
       "    </tr>\n",
       "    <tr>\n",
       "      <th>moderada</th>\n",
       "      <td>45.934426</td>\n",
       "      <td>72.737705</td>\n",
       "      <td>82.786885</td>\n",
       "      <td>68.377049</td>\n",
       "      <td>143.754098</td>\n",
       "      <td>9.713154</td>\n",
       "    </tr>\n",
       "    <tr>\n",
       "      <th>nula</th>\n",
       "      <td>1.000000</td>\n",
       "      <td>48.000000</td>\n",
       "      <td>54.000000</td>\n",
       "      <td>68.000000</td>\n",
       "      <td>150.000000</td>\n",
       "      <td>11.111111</td>\n",
       "    </tr>\n",
       "    <tr>\n",
       "      <th>suave</th>\n",
       "      <td>62.888889</td>\n",
       "      <td>79.555556</td>\n",
       "      <td>82.222222</td>\n",
       "      <td>69.111111</td>\n",
       "      <td>149.111111</td>\n",
       "      <td>3.190957</td>\n",
       "    </tr>\n",
       "  </tbody>\n",
       "</table>\n",
       "</div>"
      ],
      "text/plain": [
       "                Unnamed: 0  pulso.antes  pulso.despues     altura        peso  \\\n",
       "tipo.actividad                                                                  \n",
       "intensa          43.285714    71.571429      72.190476  69.571429  147.285714   \n",
       "moderada         45.934426    72.737705      82.786885  68.377049  143.754098   \n",
       "nula              1.000000    48.000000      54.000000  68.000000  150.000000   \n",
       "suave            62.888889    79.555556      82.222222  69.111111  149.111111   \n",
       "\n",
       "                %var_pulso  \n",
       "tipo.actividad              \n",
       "intensa           0.673985  \n",
       "moderada          9.713154  \n",
       "nula             11.111111  \n",
       "suave             3.190957  "
      ]
     },
     "execution_count": 58,
     "metadata": {},
     "output_type": "execute_result"
    }
   ],
   "source": [
    "df.groupby('tipo.actividad').mean()"
   ]
  },
  {
   "cell_type": "code",
   "execution_count": null,
   "metadata": {},
   "outputs": [],
   "source": []
  }
 ],
 "metadata": {
  "kernelspec": {
   "display_name": "Python 3",
   "language": "python",
   "name": "python3"
  },
  "language_info": {
   "codemirror_mode": {
    "name": "ipython",
    "version": 3
   },
   "file_extension": ".py",
   "mimetype": "text/x-python",
   "name": "python",
   "nbconvert_exporter": "python",
   "pygments_lexer": "ipython3",
   "version": "3.7.3"
  }
 },
 "nbformat": 4,
 "nbformat_minor": 2
}
