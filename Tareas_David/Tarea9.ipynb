{
 "cells": [
  {
   "cell_type": "code",
   "execution_count": 62,
   "metadata": {},
   "outputs": [],
   "source": [
    "%matplotlib inline\n",
    "import pandas as pd\n",
    "import numpy as np\n",
    "import matplotlib.pyplot as plt\n",
    "df = pd.read_csv(\"../data/run.csv\", delimiter=\",\", decimal=\".\", encoding=\"utf-8\")"
   ]
  },
  {
   "cell_type": "markdown",
   "metadata": {},
   "source": [
    "## *Carga el CSV de la carpeta de datos del tema llamado run.csv y responde a las siguientes preguntas. Preguntas de esta tarea:*"
   ]
  },
  {
   "cell_type": "markdown",
   "metadata": {},
   "source": [
    "## 1- Indica cuantos estudiantes formaron parte del estudio de deporte"
   ]
  },
  {
   "cell_type": "code",
   "execution_count": 58,
   "metadata": {},
   "outputs": [
    {
     "data": {
      "text/plain": [
       "92"
      ]
     },
     "execution_count": 58,
     "metadata": {},
     "output_type": "execute_result"
    }
   ],
   "source": [
    "df['altura'].count()"
   ]
  },
  {
   "cell_type": "markdown",
   "metadata": {},
   "source": [
    "## 2- Indica cuantos individuos son hombres y cuantos son mujeres"
   ]
  },
  {
   "cell_type": "code",
   "execution_count": 59,
   "metadata": {},
   "outputs": [
    {
     "data": {
      "text/plain": [
       "genero\n",
       "H    57\n",
       "M    35\n",
       "Name: genero, dtype: int64"
      ]
     },
     "execution_count": 59,
     "metadata": {},
     "output_type": "execute_result"
    }
   ],
   "source": [
    " df.groupby('genero').genero.count()"
   ]
  },
  {
   "cell_type": "markdown",
   "metadata": {},
   "source": [
    "## 3- Calcula el porcentaje medio de variación del pulso por minuto entre antes y después de hacer ejercicio y compara el valor de los que hacen ejercicio habitualmente y los que no. ¿Observas mucha diferencia?"
   ]
  },
  {
   "cell_type": "code",
   "execution_count": 93,
   "metadata": {},
   "outputs": [
    {
     "data": {
      "text/plain": [
       "array([0     12.5\n",
       "1      3.7\n",
       "2     -7.4\n",
       "3     20.7\n",
       "4      0.0\n",
       "5     -3.4\n",
       "6     26.7\n",
       "7      3.3\n",
       "8     16.7\n",
       "9     10.0\n",
       "10    14.8\n",
       "11    22.6\n",
       "12    21.0\n",
       "13    -6.5\n",
       "14    61.3\n",
       "15    58.1\n",
       "16     0.0\n",
       "17     6.5\n",
       "18     9.7\n",
       "19     6.5\n",
       "20    37.5\n",
       "21    25.0\n",
       "22    -3.1\n",
       "23    -6.2\n",
       "24    18.2\n",
       "25    24.2\n",
       "26    54.5\n",
       "27     9.1\n",
       "28    15.2\n",
       "29     5.9\n",
       "      ... \n",
       "62    33.3\n",
       "63    51.3\n",
       "64    -2.6\n",
       "65     0.0\n",
       "66     2.6\n",
       "67    20.0\n",
       "68    60.0\n",
       "69    -7.5\n",
       "70    22.0\n",
       "71     2.4\n",
       "72    -2.4\n",
       "73     0.0\n",
       "74     0.0\n",
       "75     0.0\n",
       "76    -4.8\n",
       "77    -2.3\n",
       "78    -3.4\n",
       "79    25.0\n",
       "80    -4.5\n",
       "81   -15.9\n",
       "82     4.4\n",
       "83    -2.2\n",
       "84     0.0\n",
       "85     2.2\n",
       "86    -8.7\n",
       "87     2.2\n",
       "88    -2.1\n",
       "89    45.8\n",
       "90    20.8\n",
       "91    15.0\n",
       "Length: 92, dtype: float64,\n",
       "          hace.deporte\n",
       "0            no\n",
       "1            no\n",
       "2            no\n",
       "3            si\n",
       "4            no\n",
       "5            no\n",
       "6            si\n",
       "7            no\n",
       "8            no\n",
       "9            no\n",
       "10           no\n",
       "11           si\n",
       "12           si\n",
       "13           si\n",
       "14           si\n",
       "15           si\n",
       "16           no\n",
       "17           no\n",
       "18           no\n",
       "19           no\n",
       "20           si\n",
       "21           si\n",
       "22           no\n",
       "23           no\n",
       "24           si\n",
       "25           si\n",
       "26           si\n",
       "27           no\n",
       "28           no\n",
       "29           si\n",
       "..          ...\n",
       "62           si\n",
       "63           si\n",
       "64           no\n",
       "65           no\n",
       "66           no\n",
       "67           si\n",
       "68           si\n",
       "69           no\n",
       "70           si\n",
       "71           no\n",
       "72           no\n",
       "73           si\n",
       "74           no\n",
       "75           no\n",
       "76           no\n",
       "77           no\n",
       "78           no\n",
       "79           si\n",
       "80           no\n",
       "81           no\n",
       "82           si\n",
       "83           no\n",
       "84           no\n",
       "85           no\n",
       "86           si\n",
       "87           no\n",
       "88           no\n",
       "89           si\n",
       "90           si\n",
       "91           si\n",
       "\n",
       "[92 rows x 1 columns]], dtype=object)"
      ]
     },
     "execution_count": 93,
     "metadata": {},
     "output_type": "execute_result"
    }
   ],
   "source": [
    "#Porcentaje medio de variacion entre dos valores: (num2-num1)*100/num1\n",
    "p_pulso=round((df['pulso.despues']-df['pulso.antes'])*100/df['pulso.antes'],1)\n",
    "deporte=df.iloc[:,3:4]\n",
    "\n",
    "x = np.array([p_pulso, deporte])\n",
    "x"
   ]
  },
  {
   "cell_type": "markdown",
   "metadata": {},
   "source": [
    "## 4- Calcula el porcentaje medio de variación del pulso por minuto entre antes y después de hacer ejercicio  para los estudiantes que hacen ejercicio habitualmente y compara el valor de los hombres con el de las mujeres. ¿Observas mucha diferencia?"
   ]
  },
  {
   "cell_type": "code",
   "execution_count": null,
   "metadata": {},
   "outputs": [],
   "source": []
  },
  {
   "cell_type": "markdown",
   "metadata": {},
   "source": [
    "## 5- Calcula el porcentaje medio de variación del pulso por minuto entre antes y después de hacer ejercicio para los estudiantes que no hacen ejercicio habitualmente y compara el valor de los fumadores con los no fumadores. ¿Observas mucha diferencia?"
   ]
  },
  {
   "cell_type": "code",
   "execution_count": null,
   "metadata": {},
   "outputs": [],
   "source": []
  },
  {
   "cell_type": "markdown",
   "metadata": {},
   "source": [
    "## 6- Calcula el porcentaje medio de variación del pulso por minuto entre antes y después de hacer ejercicio de todos los estudiantes según el tipo de actividad física que realizan. ¿Observas alguna diferencia?"
   ]
  },
  {
   "cell_type": "code",
   "execution_count": null,
   "metadata": {},
   "outputs": [],
   "source": []
  }
 ],
 "metadata": {
  "kernelspec": {
   "display_name": "Python 3",
   "language": "python",
   "name": "python3"
  },
  "language_info": {
   "codemirror_mode": {
    "name": "ipython",
    "version": 3
   },
   "file_extension": ".py",
   "mimetype": "text/x-python",
   "name": "python",
   "nbconvert_exporter": "python",
   "pygments_lexer": "ipython3",
   "version": "3.7.3"
  }
 },
 "nbformat": 4,
 "nbformat_minor": 2
}
