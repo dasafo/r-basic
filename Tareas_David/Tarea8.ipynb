{
 "cells": [
  {
   "cell_type": "markdown",
   "metadata": {},
   "source": [
    "## *Carga en R o en Python el CSV de la web [winterolympicsmedals.com](http://winterolympicsmedals.com/medals.csv) y responde a las preguntas de la tarea. Preguntas de esta tarea:*"
   ]
  },
  {
   "cell_type": "code",
   "execution_count": 2,
   "metadata": {},
   "outputs": [],
   "source": [
    "import pandas as pd\n",
    "winter = pd.read_csv(\"http://winterolympicsmedals.com/medals.csv\")"
   ]
  },
  {
   "cell_type": "markdown",
   "metadata": {},
   "source": [
    "## 1- ¿Cuantos deportistas aparecen en el data frame?"
   ]
  },
  {
   "cell_type": "code",
   "execution_count": 3,
   "metadata": {},
   "outputs": [
    {
     "name": "stdout",
     "output_type": "stream",
     "text": [
      "El numero de deportistas es : 2311\n"
     ]
    }
   ],
   "source": [
    "deportistas=winter.Medal.count()\n",
    "\n",
    "print(\"El numero de deportistas es : \"+ str(deportistas))"
   ]
  },
  {
   "cell_type": "markdown",
   "metadata": {},
   "source": [
    "## 2- ¿Cuantos han ganado medallas de oro, cuantos de plata y cuantos de bronce?"
   ]
  },
  {
   "cell_type": "code",
   "execution_count": 38,
   "metadata": {},
   "outputs": [
    {
     "name": "stdout",
     "output_type": "stream",
     "text": [
      "Medal\n",
      "Bronze    764\n",
      "Gold      774\n",
      "Silver    773\n",
      "Name: Medal, dtype: int64\n"
     ]
    }
   ],
   "source": [
    "winter2=winter.groupby(['Medal'])['Medal'].count()\n",
    "\n",
    "print(winter2)"
   ]
  },
  {
   "cell_type": "markdown",
   "metadata": {},
   "source": [
    "## 3- ¿En cuantos lugares se han hecho olimpiadas de invierno?"
   ]
  },
  {
   "cell_type": "code",
   "execution_count": 50,
   "metadata": {},
   "outputs": [
    {
     "name": "stdout",
     "output_type": "stream",
     "text": [
      "City\n",
      "Albertville               171\n",
      "Calgary                   138\n",
      "Chamonix                   49\n",
      "Cortina d'Ampezzo          72\n",
      "Garmisch-Partenkirchen     51\n",
      "Grenoble                  106\n",
      "Innsbruck                 214\n",
      "Lake Placid               157\n",
      "Lillehammer               183\n",
      "Nagano                    205\n",
      "Oslo                       67\n",
      "Salt Lake City            234\n",
      "Sapporo                   105\n",
      "Sarajevo                  117\n",
      "Squaw Valley               81\n",
      "St. Moritz                109\n",
      "Turin                     252\n",
      "Name: City, dtype: int64\n"
     ]
    }
   ],
   "source": [
    "winter3=winter.groupby('City')['City'].count()\n",
    "print(winter3)"
   ]
  },
  {
   "cell_type": "markdown",
   "metadata": {},
   "source": [
    "## 4-¿Cuantos hombres y cuantas mujeres hay?"
   ]
  },
  {
   "cell_type": "code",
   "execution_count": 46,
   "metadata": {},
   "outputs": [
    {
     "name": "stdout",
     "output_type": "stream",
     "text": [
      "Event gender\n",
      "M    1386\n",
      "W     802\n",
      "X     123\n",
      "Name: Event gender, dtype: int64\n"
     ]
    }
   ],
   "source": [
    "winter4=winter.groupby('Event gender')['Event gender'].count()\n",
    "print(winter4)"
   ]
  },
  {
   "cell_type": "markdown",
   "metadata": {},
   "source": [
    "## 5- ¿En qué año participaron más deportistas?"
   ]
  },
  {
   "cell_type": "code",
   "execution_count": 70,
   "metadata": {},
   "outputs": [
    {
     "name": "stdout",
     "output_type": "stream",
     "text": [
      "2006\n"
     ]
    }
   ],
   "source": [
    "winter6=winter.Year.max()\n",
    "print(winter6)"
   ]
  },
  {
   "cell_type": "markdown",
   "metadata": {},
   "source": [
    "## 6- El campo NOC indica el país del ganador de la medalla. ¿Qué país puede presumir de haber ganado más medallas de oro en los juegos de invierno entre 1960 y 1996?"
   ]
  },
  {
   "cell_type": "code",
   "execution_count": 86,
   "metadata": {},
   "outputs": [
    {
     "name": "stdout",
     "output_type": "stream",
     "text": [
      "<pandas.core.groupby.generic.DataFrameGroupBy object at 0x7fc4b23ba978>\n"
     ]
    }
   ],
   "source": [
    "winter7=winter.groupby(['Medal','NOC'])\n",
    "print(winter7)"
   ]
  },
  {
   "cell_type": "code",
   "execution_count": 78,
   "metadata": {},
   "outputs": [
    {
     "name": "stdout",
     "output_type": "stream",
     "text": [
      "     Year  City  Sport  Discipline  Event  Event gender  Medal\n",
      "NOC                                                           \n",
      "AUS     6     6      6           6      6             6      6\n",
      "AUT   185   185    185         185    185           185    185\n",
      "BEL     5     5      5           5      5             5      5\n",
      "BLR     6     6      6           6      6             6      6\n",
      "BUL     6     6      6           6      6             6      6\n",
      "CAN   119   119    119         119    119           119    119\n",
      "CHN    33    33     33          33     33            33     33\n",
      "CRO     7     7      7           7      7             7      7\n",
      "CZE    10    10     10          10     10            10     10\n",
      "DEN     1     1      1           1      1             1      1\n",
      "ESP     2     2      2           2      2             2      2\n",
      "EST     6     6      6           6      6             6      6\n",
      "EUA    19    19     19          19     19            19     19\n",
      "EUN    23    23     23          23     23            23     23\n",
      "FIN   151   151    151         151    151           151    151\n",
      "FRA    83    83     83          83     83            83     83\n",
      "FRG    41    41     41          41     41            41     41\n",
      "GBR    21    21     21          21     21            21     21\n",
      "GDR   110   110    110         110    110           110    110\n",
      "GER   158   158    158         158    158           158    158\n",
      "HUN     6     6      6           6      6             6      6\n",
      "ITA   101   101    101         101    101           101    101\n",
      "JPN    32    32     32          32     32            32     32\n",
      "KAZ     5     5      5           5      5             5      5\n",
      "KOR    31    31     31          31     31            31     31\n",
      "LAT     1     1      1           1      1             1      1\n",
      "LIE     9     9      9           9      9             9      9\n",
      "LUX     2     2      2           2      2             2      2\n",
      "NED    78    78     78          78     78            78     78\n",
      "NOR   280   280    280         280    280           280    280\n",
      "NZL     1     1      1           1      1             1      1\n",
      "POL     8     8      8           8      8             8      8\n",
      "PRK     2     2      2           2      2             2      2\n",
      "ROU     1     1      1           1      1             1      1\n",
      "RUS    76    76     76          76     76            76     76\n",
      "SLO     4     4      4           4      4             4      4\n",
      "SUI   118   118    118         118    118           118    118\n",
      "SVK     1     1      1           1      1             1      1\n",
      "SWE   118   118    118         118    118           118    118\n",
      "TCH    25    25     25          25     25            25     25\n",
      "UKR     5     5      5           5      5             5      5\n",
      "URS   194   194    194         194    194           194    194\n",
      "USA   216   216    216         216    216           216    216\n",
      "UZB     1     1      1           1      1             1      1\n",
      "YUG     4     4      4           4      4             4      4\n"
     ]
    }
   ],
   "source": [
    "winter8=winter.groupby('NOC').count()\n",
    "print(winter8)"
   ]
  },
  {
   "cell_type": "code",
   "execution_count": null,
   "metadata": {},
   "outputs": [],
   "source": []
  }
 ],
 "metadata": {
  "kernelspec": {
   "display_name": "Python 3",
   "language": "python",
   "name": "python3"
  },
  "language_info": {
   "codemirror_mode": {
    "name": "ipython",
    "version": 3
   },
   "file_extension": ".py",
   "mimetype": "text/x-python",
   "name": "python",
   "nbconvert_exporter": "python",
   "pygments_lexer": "ipython3",
   "version": "3.7.3"
  }
 },
 "nbformat": 4,
 "nbformat_minor": 2
}
