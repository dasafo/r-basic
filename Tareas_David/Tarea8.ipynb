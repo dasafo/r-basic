{
 "cells": [
  {
   "cell_type": "markdown",
   "metadata": {},
   "source": [
    "## *Carga en R o en Python el CSV de la web [winterolympicsmedals.com](http://winterolympicsmedals.com/medals.csv) y responde a las preguntas de la tarea. Preguntas de esta tarea:*"
   ]
  },
  {
   "cell_type": "code",
   "execution_count": 11,
   "metadata": {},
   "outputs": [],
   "source": [
    "import pandas as pd\n",
    "winter = pd.read_csv(\"http://winterolympicsmedals.com/medals.csv\")"
   ]
  },
  {
   "cell_type": "markdown",
   "metadata": {},
   "source": [
    "## 1- ¿Cuantos deportistas aparecen en el data frame?"
   ]
  },
  {
   "cell_type": "code",
   "execution_count": 16,
   "metadata": {},
   "outputs": [
    {
     "name": "stdout",
     "output_type": "stream",
     "text": [
      "El numero de deportistas es : 2311\n"
     ]
    }
   ],
   "source": [
    "deportistas=winter.Medal.count()\n",
    "\n",
    "print(\"El numero de deportistas es : \"+ str(deportistas))"
   ]
  },
  {
   "cell_type": "markdown",
   "metadata": {},
   "source": [
    "## 2- ¿Cuantos han ganado medallas de oro, cuantos de plata y cuantos de bronce?"
   ]
  },
  {
   "cell_type": "code",
   "execution_count": 33,
   "metadata": {},
   "outputs": [
    {
     "name": "stdout",
     "output_type": "stream",
     "text": [
      "        Year  City  Sport  Discipline  NOC  Event  Event gender\n",
      "Medal                                                          \n",
      "Bronze   764   764    764         764  764    764           764\n",
      "Gold     774   774    774         774  774    774           774\n",
      "Silver   773   773    773         773  773    773           773\n"
     ]
    }
   ],
   "source": [
    "winter2=winter.groupby('Medal').count()\n",
    "if winter2==\"Gold\":\n",
    "    gold=i+1\n",
    "elif\n",
    "    \n",
    "print(winter2)"
   ]
  },
  {
   "cell_type": "markdown",
   "metadata": {},
   "source": [
    "## 3- ¿En cuantos lugares se han hecho olimpiadas de invierno?"
   ]
  },
  {
   "cell_type": "code",
   "execution_count": 28,
   "metadata": {},
   "outputs": [
    {
     "name": "stdout",
     "output_type": "stream",
     "text": [
      "                        Year  Sport  Discipline  NOC  Event  Event gender  \\\n",
      "City                                                                        \n",
      "Albertville              171    171         171  171    171           171   \n",
      "Calgary                  138    138         138  138    138           138   \n",
      "Chamonix                  49     49          49   49     49            49   \n",
      "Cortina d'Ampezzo         72     72          72   72     72            72   \n",
      "Garmisch-Partenkirchen    51     51          51   51     51            51   \n",
      "Grenoble                 106    106         106  106    106           106   \n",
      "Innsbruck                214    214         214  214    214           214   \n",
      "Lake Placid              157    157         157  157    157           157   \n",
      "Lillehammer              183    183         183  183    183           183   \n",
      "Nagano                   205    205         205  205    205           205   \n",
      "Oslo                      67     67          67   67     67            67   \n",
      "Salt Lake City           234    234         234  234    234           234   \n",
      "Sapporo                  105    105         105  105    105           105   \n",
      "Sarajevo                 117    117         117  117    117           117   \n",
      "Squaw Valley              81     81          81   81     81            81   \n",
      "St. Moritz               109    109         109  109    109           109   \n",
      "Turin                    252    252         252  252    252           252   \n",
      "\n",
      "                        Medal  \n",
      "City                           \n",
      "Albertville               171  \n",
      "Calgary                   138  \n",
      "Chamonix                   49  \n",
      "Cortina d'Ampezzo          72  \n",
      "Garmisch-Partenkirchen     51  \n",
      "Grenoble                  106  \n",
      "Innsbruck                 214  \n",
      "Lake Placid               157  \n",
      "Lillehammer               183  \n",
      "Nagano                    205  \n",
      "Oslo                       67  \n",
      "Salt Lake City            234  \n",
      "Sapporo                   105  \n",
      "Sarajevo                  117  \n",
      "Squaw Valley               81  \n",
      "St. Moritz                109  \n",
      "Turin                     252  \n"
     ]
    }
   ],
   "source": [
    "winter3=winter.groupby('City').count()\n",
    "print(winter3)"
   ]
  },
  {
   "cell_type": "markdown",
   "metadata": {},
   "source": [
    "## 4-¿Cuantos hombres y cuantas mujeres hay?"
   ]
  },
  {
   "cell_type": "code",
   "execution_count": null,
   "metadata": {},
   "outputs": [],
   "source": []
  },
  {
   "cell_type": "markdown",
   "metadata": {},
   "source": [
    "## 5- ¿En qué año participaron más deportistas?"
   ]
  },
  {
   "cell_type": "code",
   "execution_count": null,
   "metadata": {},
   "outputs": [],
   "source": []
  }
 ],
 "metadata": {
  "kernelspec": {
   "display_name": "Python 3",
   "language": "python",
   "name": "python3"
  },
  "language_info": {
   "codemirror_mode": {
    "name": "ipython",
    "version": 3
   },
   "file_extension": ".py",
   "mimetype": "text/x-python",
   "name": "python",
   "nbconvert_exporter": "python",
   "pygments_lexer": "ipython3",
   "version": "3.7.3"
  }
 },
 "nbformat": 4,
 "nbformat_minor": 2
}
