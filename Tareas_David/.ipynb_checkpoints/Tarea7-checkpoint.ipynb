{
 "cells": [
  {
   "cell_type": "code",
   "execution_count": 1,
   "metadata": {},
   "outputs": [],
   "source": [
    "%matplotlib inline"
   ]
  },
  {
   "cell_type": "code",
   "execution_count": 2,
   "metadata": {},
   "outputs": [],
   "source": [
    "import matplotlib.pyplot as plt"
   ]
  },
  {
   "cell_type": "code",
   "execution_count": 4,
   "metadata": {},
   "outputs": [],
   "source": [
    "import numpy as np"
   ]
  },
  {
   "cell_type": "markdown",
   "metadata": {},
   "source": [
    "## 1- A partir del siguiente código, intenta obtener el gráfico del dibujo llamado ejercicio 1 en el enunciado. Pista: investiga el parámetro fill_between de matplotlib.\n",
    "\n",
    "n = 256\n",
    "\n",
    "X = np.linspace(-np.pi, np.pi, n, endpoint=True)\n",
    "\n",
    "Y = np.sin(2 * X) \n",
    "\n",
    "plt.plot(X, Y + 1, color='blue', alpha=1.00)\n",
    "\n",
    "plt.plot(X, Y - 1, color='blue', alpha=1.00)"
   ]
  },
  {
   "cell_type": "code",
   "execution_count": null,
   "metadata": {},
   "outputs": [],
   "source": []
  },
  {
   "cell_type": "markdown",
   "metadata": {},
   "source": [
    "## 2- A partir del siguiente código, intenta obtener el gráfico del dibujo llamado ejercicio 2 en el enunciado. Pista: el color viene dado por el ángulo que forman x e y con la horizontal\n",
    "\n",
    "n = 1024\n",
    "\n",
    "X = np.random.normal(0,1,n)\n",
    "\n",
    "Y = np.random.normal(0,1,n) \n",
    "\n",
    "plt.scatter(X,Y)"
   ]
  },
  {
   "cell_type": "code",
   "execution_count": null,
   "metadata": {},
   "outputs": [],
   "source": []
  },
  {
   "cell_type": "markdown",
   "metadata": {},
   "source": [
    "## 3- A partir del siguiente código, intenta obtener el gráfico del dibujo llamado ejercicio 3 en el enunciado. Pista: cuidado con la alineación del texto en el centro de las barras.\n",
    "\n",
    "n = 12\n",
    "\n",
    "X = np.arange(n)\n",
    "\n",
    "Y1 = (1 - X / float(n)) * np.random.uniform(0.5, 1.0, n)\n",
    "\n",
    "Y2 = (1 - X / float(n)) * np.random.uniform(0.5, 1.0, n) \n",
    "\n",
    "plt.bar(X, +Y1, facecolor='#9999ff', edgecolor='white')\n",
    "\n",
    "plt.bar(X, -Y2, facecolor='#ff9999', edgecolor='white') \n",
    "\n",
    "for x, y in zip(X, Y1):     \n",
    "\n",
    "        plt.text(x + 0.4, y + 0.05, '%.2f' % y, ha='center', va='bottom') \n",
    "\n",
    "plt.ylim(-1.25, +1.25)"
   ]
  },
  {
   "cell_type": "code",
   "execution_count": null,
   "metadata": {},
   "outputs": [],
   "source": []
  },
  {
   "cell_type": "markdown",
   "metadata": {},
   "source": [
    "## 4- A partir del siguiente código, intenta obtener el gráfico del dibujo llamado ejercicio 4 en el enunciado. Pista: tendrás que modificar la Z.\n",
    "\n",
    "Z = np.random.uniform(0, 1, 20)\n",
    "\n",
    "plt.pie(Z)"
   ]
  },
  {
   "cell_type": "code",
   "execution_count": null,
   "metadata": {},
   "outputs": [],
   "source": []
  },
  {
   "cell_type": "code",
   "execution_count": null,
   "metadata": {},
   "outputs": [],
   "source": []
  }
 ],
 "metadata": {
  "kernelspec": {
   "display_name": "Python 3",
   "language": "python",
   "name": "python3"
  },
  "language_info": {
   "codemirror_mode": {
    "name": "ipython",
    "version": 3
   },
   "file_extension": ".py",
   "mimetype": "text/x-python",
   "name": "python",
   "nbconvert_exporter": "python",
   "pygments_lexer": "ipython3",
   "version": "3.7.3"
  }
 },
 "nbformat": 4,
 "nbformat_minor": 2
}
