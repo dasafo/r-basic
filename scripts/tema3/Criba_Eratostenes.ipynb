{
 "cells": [
  {
   "cell_type": "markdown",
   "metadata": {},
   "source": [
    "# Criba de Eratóstenes"
   ]
  },
  {
   "cell_type": "code",
   "execution_count": 1,
   "metadata": {},
   "outputs": [
    {
     "name": "stdout",
     "output_type": "stream",
     "text": [
      "2\n",
      "3\n",
      "5\n",
      "7\n",
      "11\n",
      "13\n",
      "17\n",
      "19\n",
      "23\n",
      "29\n",
      "31\n",
      "37\n",
      "41\n",
      "43\n",
      "47\n",
      "53\n",
      "59\n",
      "61\n",
      "67\n",
      "71\n",
      "73\n",
      "79\n",
      "83\n",
      "89\n",
      "97\n",
      "101\n",
      "103\n",
      "107\n",
      "109\n",
      "113\n"
     ]
    }
   ],
   "source": [
    "primos = list(range(2,121))\n",
    "i = 0;\n",
    "while i < len(primos):\n",
    "    if(primos[i] != 0):\n",
    "        j=i+primos[i]\n",
    "        while j < len(primos):\n",
    "            primos[j] = 0\n",
    "            j+=primos[i]\n",
    "    i+=1\n",
    "i=0 \n",
    "length = len(primos) \n",
    "while(i<length):\n",
    "    if(primos[i]==0):\n",
    "        primos.remove (primos[i])\n",
    "        length = length -1  \n",
    "        continue\n",
    "    i = i+1\n",
    "for numero in primos:\n",
    "    print(numero)"
   ]
  },
  {
   "cell_type": "code",
   "execution_count": null,
   "metadata": {},
   "outputs": [],
   "source": []
  }
 ],
 "metadata": {
  "kernelspec": {
   "display_name": "Python 3",
   "language": "python",
   "name": "python3"
  },
  "language_info": {
   "codemirror_mode": {
    "name": "ipython",
    "version": 3
   },
   "file_extension": ".py",
   "mimetype": "text/x-python",
   "name": "python",
   "nbconvert_exporter": "python",
   "pygments_lexer": "ipython3",
   "version": "3.7.3"
  }
 },
 "nbformat": 4,
 "nbformat_minor": 2
}
