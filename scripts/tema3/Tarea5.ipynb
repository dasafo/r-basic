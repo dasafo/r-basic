{
 "cells": [
  {
   "cell_type": "markdown",
   "metadata": {},
   "source": [
    "## 1- Crea una función que reciba los tres coeficientes a, b y c para resolver una ecuación de segundo grado. Muestra la solución por pantalla y ayúdate de la librería Math para acceder a la función raíz cuadrada."
   ]
  },
  {
   "cell_type": "code",
   "execution_count": 14,
   "metadata": {},
   "outputs": [
    {
     "name": "stdout",
     "output_type": "stream",
     "text": [
      "El resultado es x1= -0.2679491924311228 y x2= -3.732050807568877\n"
     ]
    }
   ],
   "source": [
    "import math\n",
    "def raiz(a,b,c):\n",
    "    x1=(-b+math.sqrt(b*b-(4*a*c)))/2*a\n",
    "    x2=(-b-math.sqrt(b*b-(4*a*c)))/2*a\n",
    "    return print(\"El resultado es x1= \" + str(x1) + \" y x2= \" + str(x2))\n",
    "raiz(1,1)"
   ]
  },
  {
   "cell_type": "markdown",
   "metadata": {},
   "source": [
    "## 2- Crea una función que lea una frase de teclado y nos diga si es o no un palíndromo (frase que se lee igual de izquierda a derecha o al revés como por ejemplo La ruta nos aportó otro paso natural.)"
   ]
  },
  {
   "cell_type": "code",
   "execution_count": 34,
   "metadata": {},
   "outputs": [
    {
     "name": "stdout",
     "output_type": "stream",
     "text": [
      "Introduce una frase: La ruta nos aporto otro paso natural\n",
      "larutanosaportootropasonatural\n",
      "larutanosaportootropasonatural\n",
      "Es palindromo\n"
     ]
    }
   ],
   "source": [
    "frase=input(\"Introduce una frase (sin acentos,puntos o comas): \")\n",
    "frase2=frase.lower().replace(' ','') #ponemos la frase en minuscula y eliminamos los espacios\n",
    "palindromo=frase2[::-1] #le damos la vuelta al string de frase2\n",
    "\n",
    "if palindromo==frase2: #si se cumple que ambas frases son iguales....\n",
    "    print(\"Es palindromo\")\n",
    "else:\n",
    "    print(\"No es palindromo\")"
   ]
  },
  {
   "cell_type": "markdown",
   "metadata": {},
   "source": [
    "## 3- Crea un diccionario que tenga por claves los números del 1 al 10 y como valores sus raíces cuadradas"
   ]
  },
  {
   "cell_type": "code",
   "execution_count": 44,
   "metadata": {},
   "outputs": [
    {
     "data": {
      "text/plain": [
       "2.8284271247461903"
      ]
     },
     "execution_count": 44,
     "metadata": {},
     "output_type": "execute_result"
    }
   ],
   "source": [
    "dic={\n",
    "    1:math.sqrt(1),\n",
    "    2:math.sqrt(2),\n",
    "    3:math.sqrt(3),\n",
    "    4:math.sqrt(4),\n",
    "    5:math.sqrt(5),\n",
    "    6:math.sqrt(6),\n",
    "    7:math.sqrt(7),\n",
    "    8:math.sqrt(8),\n",
    "    9:math.sqrt(9),\n",
    "    10:math.sqrt(10)\n",
    "}\n",
    "dic[8]"
   ]
  },
  {
   "cell_type": "markdown",
   "metadata": {},
   "source": [
    "## 4- Crea un diccionario que tenga como claves las letras del alfabeto castellano y como valores los símbolos del código morse (los tienes todos en la Wikipedia). A continuación crea un programa que lea una frase del teclado y te la convierta a Morse utilizando el diccionario anterior."
   ]
  },
  {
   "cell_type": "code",
   "execution_count": 56,
   "metadata": {},
   "outputs": [
    {
     "name": "stdout",
     "output_type": "stream",
     "text": [
      "Introduce una frase para pasar a morse: Me llamo David\n",
      "Texto en Morse: --· ·-···-···------ -···-···-··-··\n"
     ]
    }
   ],
   "source": [
    "morse={\n",
    "    \"a\":\"·-\",\"b\":\"-··\",\"c\":\"-·-·\",\"d\":\"-··\",\n",
    "    \"e\":\"·\",\"f\":\"··-·\",\"g\":\"--·\",\"h\":\"····\",\n",
    "    \"i\":\"··\",\"j\":\"·---\",\"k\":\"-·-\",\"l\":\"·-··\",\n",
    "    \"m\":\"--\",\"n\":\"-·\",\"ñ\":\"--·--\",\"o\":\"---\",\n",
    "    \"p\":\"·--·\",\"q\":\"--·-\",\"r\":\"·-·\",\"s\":\"···\",\n",
    "    \"t\":\"-\",\"u\":\"··-\",\"v\":\"···-\",\"w\":\"·--\",\n",
    "    \"x\":\"-··-\",\"y\":\"-·--\",\"z\":\"--··\"\n",
    "}\n",
    "\n",
    "texto=\"\" #creamos un string vacio\n",
    "\n",
    "frase=input(\"Introduce una frase para pasar a morse(solo letras): \")\n",
    "\n",
    "for i in frase: #creamos un bucle que lea el string 'frase'\n",
    "    if i != \" \" and i.lower() in morse: #si no es un espacio y la letra(puesta en minuscula) esta dentro de morse..\n",
    "        texto += morse[i.lower()] #si se cumple la condicion metemos esa letra en morse dentro de texto\n",
    "    else:\n",
    "        texto += i #sino pasamos a la siguiente posicion del string 'frase'\n",
    "    \n",
    "print(\"Texto en Morse: {}\".format(texto)) #imprimimos el resultado de 'texto'"
   ]
  },
  {
   "cell_type": "markdown",
   "metadata": {},
   "source": [
    "## 5- Crea una función que dados dos diccionarios nos diga que claves están presentes en ambos."
   ]
  },
  {
   "cell_type": "code",
   "execution_count": 91,
   "metadata": {},
   "outputs": [
    {
     "name": "stdout",
     "output_type": "stream",
     "text": [
      "Las claves que coinciden son:\n",
      "Nombre\n",
      "Ciudad\n"
     ]
    }
   ],
   "source": [
    "dic1={\n",
    "    \"Nombre\":\"Juan\",\n",
    "    \"Edad\":38,\n",
    "    \"Ciudad\":\"Burgos\",\n",
    "    \"Pais\":\"España\"\n",
    "}\n",
    "dic2={\n",
    "    \"Pariente\":\"David\",\n",
    "    1:\"Galicia\",\n",
    "    \"Hija\":\"Vigo\",\n",
    "    \"Ciudad\":\"Sara\",\n",
    "    \"Nombre\":\"Alfredo\"\n",
    "}\n",
    "def diccionarios(a,b):\n",
    "    print(\"Las claves que coinciden son:\")\n",
    "    for i in keys1:\n",
    "        if i in keys2:\n",
    "            print(i)\n",
    "diccionarios(dic1,dic2)"
   ]
  },
  {
   "cell_type": "markdown",
   "metadata": {},
   "source": [
    "## 6- Crea una función que dado un número N nos diga si es primo o no (tiene que ir dividiendo por todos los números x comprendidos entre 2 y el propio número N menos uno y ver si el cociente de N/x tiene resto entero o no)."
   ]
  },
  {
   "cell_type": "code",
   "execution_count": 96,
   "metadata": {},
   "outputs": [
    {
     "name": "stdout",
     "output_type": "stream",
     "text": [
      "El numero 17 es primo\n"
     ]
    }
   ],
   "source": [
    "def num(a):\n",
    "    if ((2**(a-1))%a)==1 or a==2:\n",
    "        print(\"El numero %d es primo\"%a)\n",
    "    else:\n",
    "        print(\"El numero %d NO es primo\"%a)\n",
    "num(17)"
   ]
  },
  {
   "cell_type": "code",
   "execution_count": 139,
   "metadata": {},
   "outputs": [
    {
     "name": "stdout",
     "output_type": "stream",
     "text": [
      "El numero 43 es primo\n"
     ]
    }
   ],
   "source": [
    "\n",
    "def fun(n):\n",
    "    a=0\n",
    "    for i in range(1,n+1):\n",
    "        if(n%i ==0):\n",
    "            a=a+1\n",
    "    if(a==2):\n",
    "        print(\"El numero %d es primo\"%n)\n",
    "    else:\n",
    "        print(\"El numero %d NO es primo\"%n)\n",
    "fun(43)"
   ]
  },
  {
   "cell_type": "markdown",
   "metadata": {},
   "source": [
    "## 7- Investiga la documentación de la clase string y crea un método que lea una frase del teclado y escriba la primera letra de cada palabra en Mayúscula."
   ]
  },
  {
   "cell_type": "code",
   "execution_count": 142,
   "metadata": {},
   "outputs": [
    {
     "name": "stdout",
     "output_type": "stream",
     "text": [
      "Introduce una frase: paula campeona y nauka tambien\n",
      "Paula Campeona Y Nauka Tambien\n"
     ]
    }
   ],
   "source": [
    "frase=input(\"Introduce una frase: \")\n",
    "title=frase.title()\n",
    "print(title)"
   ]
  },
  {
   "cell_type": "markdown",
   "metadata": {},
   "source": [
    "## 8- Crea una función que calcule el máximo común divisor de dos números introducidos por el usuario por teclado."
   ]
  },
  {
   "cell_type": "code",
   "execution_count": 144,
   "metadata": {},
   "outputs": [
    {
     "name": "stdout",
     "output_type": "stream",
     "text": [
      "Introduce el primer numero: 58\n",
      "Introduce el segundo numero: 78\n",
      "El máximo común divisor de  58  y  78  es  2\n"
     ]
    }
   ],
   "source": [
    "def mcd(a,b):\n",
    "    resto=0\n",
    "    while(b>0):\n",
    "        resto=b\n",
    "        b =a%b\n",
    "        a=resto\n",
    "    return a\n",
    " \n",
    "# solicitamos los dos números\n",
    "num1 = int(input(\"Introduce el primer numero: \"))\n",
    "num2 = int(input(\"Introduce el segundo numero: \"))\n",
    " \n",
    "print(\"El máximo común divisor de \", num1,\" y \", num2,\" es \", mcd(num1, num2))"
   ]
  },
  {
   "cell_type": "markdown",
   "metadata": {},
   "source": [
    "## 9- Investiga el Cifrado del César y crea una función que lo reproduzca en Python. Cada letra del mensaje original se desplaza tres posiciones en el alfabeto estándar. La A se convierte en la D, la B se convierte en la E, la C se convierte en la F... y cuando se acaba el alfabeto se le vuelve a dar la vuelta: la X se convierte en la A, la Y en la B y la X en la C. Los números no sufren ninguna modificación.\n",
    "\n"
   ]
  },
  {
   "cell_type": "code",
   "execution_count": 155,
   "metadata": {},
   "outputs": [
    {
     "name": "stdout",
     "output_type": "stream",
     "text": [
      "Introduce texto en minusculas:mañana podemos quedar a tomar un cafe\n",
      "Texto cifrado:  odqdpd srghorv txhgdu d wrodu xp fdih\n"
     ]
    }
   ],
   "source": [
    "texto=input(\"Introduce texto en minusculas:\")\n",
    "desp=3\n",
    "abc=\"abcdefghijklmnñopqrstuvwxyz\"\n",
    "cifrad=\"\"\n",
    "for i in texto:\n",
    "    if i in abc:\n",
    "        cifrad+= abc[(abc.index(i)+desp)%(len(abc))]\n",
    "    else:\n",
    "        cifrad+=i\n",
    "print(\"Texto cifrado: \",cifrad)"
   ]
  },
  {
   "cell_type": "markdown",
   "metadata": {},
   "source": [
    "## 10- Dado una lista de nombres de persona, escribe un algoritmo que los ordene de tres formas diferentes:\n",
    "\n",
    "### A. De forma alfabética\n",
    "\n",
    "### B. De forma alfabética invertida\n",
    "\n",
    "### C. De nombre más corto al más largo."
   ]
  },
  {
   "cell_type": "code",
   "execution_count": 163,
   "metadata": {},
   "outputs": [
    {
     "name": "stdout",
     "output_type": "stream",
     "text": [
      "A- Por orden alfabético:  ['Ana', 'David', 'Marcos', 'Paula', 'Sergio']\n",
      "A- Por orden alfabético:  ['Sergio', 'Paula', 'Marcos', 'David', 'Ana']\n"
     ]
    }
   ],
   "source": [
    "lista=[\"David\",\"Marcos\",\"Ana\",\"Sergio\",\"Paula\"]\n",
    "lista_alfa=sorted(lista)\n",
    "print(\"A- Por orden alfabético: \",lista_alfa)\n",
    "lista_invert=sorted(lista, reverse=True)\n",
    "print(\"B- Por orden alfabético invertida: \",lista_invert)\n"
   ]
  },
  {
   "cell_type": "code",
   "execution_count": null,
   "metadata": {},
   "outputs": [],
   "source": []
  },
  {
   "cell_type": "code",
   "execution_count": null,
   "metadata": {},
   "outputs": [],
   "source": []
  },
  {
   "cell_type": "code",
   "execution_count": null,
   "metadata": {},
   "outputs": [],
   "source": []
  },
  {
   "cell_type": "code",
   "execution_count": null,
   "metadata": {},
   "outputs": [],
   "source": []
  },
  {
   "cell_type": "code",
   "execution_count": null,
   "metadata": {},
   "outputs": [],
   "source": []
  },
  {
   "cell_type": "code",
   "execution_count": null,
   "metadata": {},
   "outputs": [],
   "source": []
  },
  {
   "cell_type": "code",
   "execution_count": null,
   "metadata": {},
   "outputs": [],
   "source": []
  },
  {
   "cell_type": "code",
   "execution_count": null,
   "metadata": {},
   "outputs": [],
   "source": []
  },
  {
   "cell_type": "code",
   "execution_count": null,
   "metadata": {},
   "outputs": [],
   "source": []
  },
  {
   "cell_type": "code",
   "execution_count": null,
   "metadata": {},
   "outputs": [],
   "source": []
  }
 ],
 "metadata": {
  "kernelspec": {
   "display_name": "Python 3",
   "language": "python",
   "name": "python3"
  },
  "language_info": {
   "codemirror_mode": {
    "name": "ipython",
    "version": 3
   },
   "file_extension": ".py",
   "mimetype": "text/x-python",
   "name": "python",
   "nbconvert_exporter": "python",
   "pygments_lexer": "ipython3",
   "version": "3.7.3"
  }
 },
 "nbformat": 4,
 "nbformat_minor": 2
}
