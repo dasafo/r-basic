{
 "cells": [
  {
   "cell_type": "markdown",
   "metadata": {},
   "source": [
    "# Diagrama de Caja y Bigotes"
   ]
  },
  {
   "cell_type": "code",
   "execution_count": 1,
   "metadata": {},
   "outputs": [],
   "source": [
    "import numpy as np\n",
    "import matplotlib.pyplot as plt"
   ]
  },
  {
   "cell_type": "code",
   "execution_count": 2,
   "metadata": {},
   "outputs": [],
   "source": [
    "np.random.seed(19880519)"
   ]
  },
  {
   "cell_type": "code",
   "execution_count": 16,
   "metadata": {},
   "outputs": [
    {
     "name": "stdout",
     "output_type": "stream",
     "text": [
      "[18.0839565  50.60037634 95.74835108 37.36700723  1.35701509 75.30567912\n",
      " 27.34384473 82.5432511  46.39907227 99.59221344 81.38182934 63.75096782\n",
      " 80.56715963 93.79040827 42.39683337 55.34662326 15.6181686  50.84469314\n",
      " 48.04808937 70.89469945 11.8848746  66.05628691 34.8312126  54.93299743\n",
      " 57.41942236  7.43167137  0.98685193 71.22876412 80.83698015 57.94032292\n",
      " 61.11278561 91.01415341 54.63893898 61.31780659 78.89260261 23.05844968\n",
      " 90.7127753  78.5061387  95.20641527 62.19370848 87.05040852 61.20037631\n",
      " 65.7003762  37.70035812 25.99037937 62.84804306 90.46160155 17.11274215\n",
      "  4.70553379 60.08175746]\n",
      "[50. 50. 50. 50. 50. 50. 50. 50. 50. 50. 50. 50. 50. 50. 50. 50. 50. 50.\n",
      " 50. 50. 50. 50. 50. 50. 50.]\n",
      "[183.23851147 179.66709219 166.90629056 170.94354984 182.27656047\n",
      " 168.02355236 126.27490157 149.026612   127.11239749 199.61378616]\n",
      "[-13.67580189 -54.68376744 -39.86240571 -91.61759035 -84.08086693\n",
      " -26.71317667 -95.18182556 -54.99526492 -33.32400561 -27.46538572]\n"
     ]
    }
   ],
   "source": [
    "dist1 = 100*np.random.rand(50) #50 numeros aleatorios entre 0 y 1 multiplicaod spor 100\n",
    "print(dist1)\n",
    "dist2 = 50*np.ones(25) #25 'unos' por 50\n",
    "print(dist2)\n",
    "dist3 = 100+100*np.random.rand(10) #generamos 10 outlayers superiores entre 100 y 200\n",
    "print(dist3)\n",
    "dist4 = -100*np.random.rand(10) #10 outlayers inferiores\n",
    "print(dist4)\n",
    "data = np.concatenate((dist1, dist2, dist3, dist4))"
   ]
  },
  {
   "cell_type": "code",
   "execution_count": 17,
   "metadata": {},
   "outputs": [
    {
     "data": {
      "text/plain": [
       "{'whiskers': [<matplotlib.lines.Line2D at 0x7f6d2e8e0ef0>,\n",
       "  <matplotlib.lines.Line2D at 0x7f6d2e8ed588>],\n",
       " 'caps': [<matplotlib.lines.Line2D at 0x7f6d2e8ed8d0>,\n",
       "  <matplotlib.lines.Line2D at 0x7f6d2e8edc18>],\n",
       " 'boxes': [<matplotlib.lines.Line2D at 0x7f6d2e8e0da0>],\n",
       " 'medians': [<matplotlib.lines.Line2D at 0x7f6d2e8edf60>],\n",
       " 'fliers': [<matplotlib.lines.Line2D at 0x7f6d2e8edef0>],\n",
       " 'means': []}"
      ]
     },
     "execution_count": 17,
     "metadata": {},
     "output_type": "execute_result"
    },
    {
     "data": {
      "image/png": "[encoded data removed]",
      "text/plain": [
       "<Figure size 432x288 with 1 Axes>"
      ]
     },
     "metadata": {
      "needs_background": "light"
     },
     "output_type": "display_data"
    }
   ],
   "source": [
    "fig1, ax1 = plt.subplots() #invocamos al subplots de python para generar una figura 1 y un eje 1 de dibujo\n",
    "ax1.set_title(\"Boxplot básico\")\n",
    "ax1.boxplot(data)"
   ]
  },
  {
   "cell_type": "code",
   "execution_count": 5,
   "metadata": {},
   "outputs": [
    {
     "data": {
      "text/plain": [
       "{'whiskers': [<matplotlib.lines.Line2D at 0x7f6d2eb88710>,\n",
       "  <matplotlib.lines.Line2D at 0x7f6d2eb88ac8>],\n",
       " 'caps': [<matplotlib.lines.Line2D at 0x7f6d2eb88e10>,\n",
       "  <matplotlib.lines.Line2D at 0x7f6d2eb88ef0>],\n",
       " 'boxes': [<matplotlib.lines.Line2D at 0x7f6d2eb88320>],\n",
       " 'medians': [<matplotlib.lines.Line2D at 0x7f6d2eb394e0>],\n",
       " 'fliers': [<matplotlib.lines.Line2D at 0x7f6d2eb39828>],\n",
       " 'means': []}"
      ]
     },
     "execution_count": 5,
     "metadata": {},
     "output_type": "execute_result"
    },
    {
     "data": {
      "image/png": "[encoded data removed]",
      "text/plain": [
       "<Figure size 432x288 with 1 Axes>"
      ]
     },
     "metadata": {
      "needs_background": "light"
     },
     "output_type": "display_data"
    }
   ],
   "source": [
    "fig2, ax2 = plt.subplots()\n",
    "ax2.set_title(\"Boxplot con muescas\")\n",
    "ax2.boxplot(data, notch = True) #notch para poner muecas"
   ]
  },
  {
   "cell_type": "code",
   "execution_count": 6,
   "metadata": {},
   "outputs": [
    {
     "data": {
      "text/plain": [
       "{'whiskers': [<matplotlib.lines.Line2D at 0x7f6d2eb14c88>,\n",
       "  <matplotlib.lines.Line2D at 0x7f6d2eb14dd8>],\n",
       " 'caps': [<matplotlib.lines.Line2D at 0x7f6d2eaa33c8>,\n",
       "  <matplotlib.lines.Line2D at 0x7f6d2eaa3710>],\n",
       " 'boxes': [<matplotlib.lines.Line2D at 0x7f6d2eb14898>],\n",
       " 'medians': [<matplotlib.lines.Line2D at 0x7f6d2eaa3a58>],\n",
       " 'fliers': [<matplotlib.lines.Line2D at 0x7f6d2eaa3da0>],\n",
       " 'means': []}"
      ]
     },
     "execution_count": 6,
     "metadata": {},
     "output_type": "execute_result"
    },
    {
     "data": {
      "image/png": "[encoded data removed]",
      "text/plain": [
       "<Figure size 432x288 with 1 Axes>"
      ]
     },
     "metadata": {
      "needs_background": "light"
     },
     "output_type": "display_data"
    }
   ],
   "source": [
    "green_diamond = dict(markerfacecolor=\"g\", marker=\"D\")\n",
    "fig3, ax3 = plt.subplots()\n",
    "ax3.set_title(\"Boxplot con outliers personalizados\")\n",
    "ax3.boxplot(data, flierprops=green_diamond)"
   ]
  },
  {
   "cell_type": "code",
   "execution_count": 7,
   "metadata": {},
   "outputs": [
    {
     "data": {
      "text/plain": [
       "{'whiskers': [<matplotlib.lines.Line2D at 0x7f6d2ea7be48>,\n",
       "  <matplotlib.lines.Line2D at 0x7f6d2ea7bf98>],\n",
       " 'caps': [<matplotlib.lines.Line2D at 0x7f6d2ea8b588>,\n",
       "  <matplotlib.lines.Line2D at 0x7f6d2ea8b8d0>],\n",
       " 'boxes': [<matplotlib.lines.Line2D at 0x7f6d2ea7ba58>],\n",
       " 'medians': [<matplotlib.lines.Line2D at 0x7f6d2ea8bc18>],\n",
       " 'fliers': [],\n",
       " 'means': []}"
      ]
     },
     "execution_count": 7,
     "metadata": {},
     "output_type": "execute_result"
    },
    {
     "data": {
      "image/png": "[encoded data removed]",
      "text/plain": [
       "<Figure size 432x288 with 1 Axes>"
      ]
     },
     "metadata": {
      "needs_background": "light"
     },
     "output_type": "display_data"
    }
   ],
   "source": [
    "fig4, ax4 = plt.subplots()\n",
    "ax4.set_title(\"Boxplot sin outliers\")\n",
    "ax4.boxplot(data, showfliers=False)"
   ]
  },
  {
   "cell_type": "code",
   "execution_count": 8,
   "metadata": {},
   "outputs": [
    {
     "data": {
      "text/plain": [
       "{'whiskers': [<matplotlib.lines.Line2D at 0x7f6d2e9eb710>,\n",
       "  <matplotlib.lines.Line2D at 0x7f6d2e9ebac8>],\n",
       " 'caps': [<matplotlib.lines.Line2D at 0x7f6d2e9ebe10>,\n",
       "  <matplotlib.lines.Line2D at 0x7f6d2e9ebef0>],\n",
       " 'boxes': [<matplotlib.lines.Line2D at 0x7f6d2e9eb320>],\n",
       " 'medians': [<matplotlib.lines.Line2D at 0x7f6d2e9f84e0>],\n",
       " 'fliers': [<matplotlib.lines.Line2D at 0x7f6d2e9f8828>],\n",
       " 'means': []}"
      ]
     },
     "execution_count": 8,
     "metadata": {},
     "output_type": "execute_result"
    },
    {
     "data": {
      "image/png": "[encoded data removed]",
      "text/plain": [
       "<Figure size 432x288 with 1 Axes>"
      ]
     },
     "metadata": {
      "needs_background": "light"
     },
     "output_type": "display_data"
    }
   ],
   "source": [
    "red_square = dict(markerfacecolor=\"r\", marker=\"s\")\n",
    "fig5, ax5 = plt.subplots()\n",
    "ax5.set_title(\"Boxplot personalizado y en horizontal\")\n",
    "ax5.boxplot(data, vert=False, flierprops=red_square, whis=0.75) #whis para cambiar el tamaño de los bigotes(por defecto 1)"
   ]
  },
  {
   "cell_type": "code",
   "execution_count": 9,
   "metadata": {},
   "outputs": [],
   "source": [
    "dist1 = 100*np.random.rand(50)\n",
    "dist2 = 40*np.ones(25)\n",
    "dist3 = 100+100*np.random.rand(10)\n",
    "dist4 = -100*np.random.rand(10)\n",
    "data2 = np.concatenate((dist1, dist2, dist3, dist4))"
   ]
  },
  {
   "cell_type": "code",
   "execution_count": 10,
   "metadata": {},
   "outputs": [],
   "source": [
    "data.shape = (-1,1)\n",
    "data2.shape = (-1,1)"
   ]
  },
  {
   "cell_type": "code",
   "execution_count": 11,
   "metadata": {},
   "outputs": [],
   "source": [
    "fulldata = [data, data2, data2[::2,0]] #::2 es coger todos de 2 en 2"
   ]
  },
  {
   "cell_type": "code",
   "execution_count": 12,
   "metadata": {},
   "outputs": [
    {
     "data": {
      "image/png": "[encoded data removed]",
      "text/plain": [
       "<Figure size 432x288 with 1 Axes>"
      ]
     },
     "metadata": {
      "needs_background": "light"
     },
     "output_type": "display_data"
    }
   ],
   "source": [
    "fig7, ax7 = plt.subplots()\n",
    "ax7.set_title(\"Múltiples muestras de diferente naturaleza\")\n",
    "ax7.boxplot(fulldata)\n",
    "plt.show()"
   ]
  },
  {
   "cell_type": "code",
   "execution_count": null,
   "metadata": {},
   "outputs": [],
   "source": []
  },
  {
   "cell_type": "code",
   "execution_count": null,
   "metadata": {},
   "outputs": [],
   "source": []
  }
 ],
 "metadata": {
  "kernelspec": {
   "display_name": "Python 3",
   "language": "python",
   "name": "python3"
  },
  "language_info": {
   "codemirror_mode": {
    "name": "ipython",
    "version": 3
   },
   "file_extension": ".py",
   "mimetype": "text/x-python",
   "name": "python",
   "nbconvert_exporter": "python",
   "pygments_lexer": "ipython3",
   "version": "3.7.3"
  }
 },
 "nbformat": 4,
 "nbformat_minor": 2
}
